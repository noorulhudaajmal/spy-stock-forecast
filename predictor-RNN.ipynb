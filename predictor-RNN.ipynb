{
 "cells": [
  {
   "cell_type": "code",
   "execution_count": 1,
   "id": "47d58e25",
   "metadata": {},
   "outputs": [],
   "source": [
    "import numpy as np\n",
    "import pandas as pd\n",
    "import matplotlib.pyplot as plt\n",
    "import seaborn as sns\n",
    "from sklearn.preprocessing import StandardScaler\n",
    "from sklearn.model_selection import train_test_split\n",
    "from sklearn.metrics import mean_absolute_error,mean_squared_error\n",
    "from xgboost import XGBRegressor\n",
    "import pickle\n",
    "\n",
    "%matplotlib inline"
   ]
  },
  {
   "cell_type": "code",
   "execution_count": 2,
   "id": "2d37f9dd",
   "metadata": {},
   "outputs": [],
   "source": [
    "data = pd.read_csv(\"spy.csv\",index_col=0)"
   ]
  },
  {
   "cell_type": "code",
   "execution_count": 3,
   "id": "278e5fb4",
   "metadata": {},
   "outputs": [],
   "source": [
    "data.index = pd.to_datetime(data.index)"
   ]
  },
  {
   "cell_type": "code",
   "execution_count": 4,
   "id": "89687e70",
   "metadata": {},
   "outputs": [
    {
     "data": {
      "text/html": [
       "<div>\n",
       "<style scoped>\n",
       "    .dataframe tbody tr th:only-of-type {\n",
       "        vertical-align: middle;\n",
       "    }\n",
       "\n",
       "    .dataframe tbody tr th {\n",
       "        vertical-align: top;\n",
       "    }\n",
       "\n",
       "    .dataframe thead th {\n",
       "        text-align: right;\n",
       "    }\n",
       "</style>\n",
       "<table border=\"1\" class=\"dataframe\">\n",
       "  <thead>\n",
       "    <tr style=\"text-align: right;\">\n",
       "      <th></th>\n",
       "      <th>target_Open</th>\n",
       "      <th>target_High</th>\n",
       "      <th>target_Low</th>\n",
       "      <th>target_Change</th>\n",
       "      <th>target_%Chg</th>\n",
       "      <th>target_Volume</th>\n",
       "      <th>RSI</th>\n",
       "      <th>CMBO Last</th>\n",
       "      <th>CMBO Change</th>\n",
       "      <th>CMBO %Chg</th>\n",
       "      <th>...</th>\n",
       "      <th>TLT Put/Call Vol</th>\n",
       "      <th>TLT Options Vol</th>\n",
       "      <th>TLT Put/Call OI</th>\n",
       "      <th>TLT Total OI</th>\n",
       "      <th>VIX Change</th>\n",
       "      <th>VIX %Chg</th>\n",
       "      <th>GLD Imp Vol</th>\n",
       "      <th>GLD IV Rank</th>\n",
       "      <th>GLD Total OI</th>\n",
       "      <th>target_Last</th>\n",
       "    </tr>\n",
       "  </thead>\n",
       "  <tbody>\n",
       "    <tr>\n",
       "      <th>2022-09-16</th>\n",
       "      <td>0.453751</td>\n",
       "      <td>0.450964</td>\n",
       "      <td>0.461522</td>\n",
       "      <td>-1.010351</td>\n",
       "      <td>-0.573600</td>\n",
       "      <td>0.341243</td>\n",
       "      <td>0.038276</td>\n",
       "      <td>0.245489</td>\n",
       "      <td>-0.742409</td>\n",
       "      <td>-0.485672</td>\n",
       "      <td>...</td>\n",
       "      <td>-0.628164</td>\n",
       "      <td>4.022133</td>\n",
       "      <td>-1.853642</td>\n",
       "      <td>2.802145</td>\n",
       "      <td>0.004608</td>\n",
       "      <td>-0.452381</td>\n",
       "      <td>0.486191</td>\n",
       "      <td>-0.251761</td>\n",
       "      <td>1.714926</td>\n",
       "      <td>0.474400</td>\n",
       "    </tr>\n",
       "    <tr>\n",
       "      <th>2022-09-15</th>\n",
       "      <td>0.585799</td>\n",
       "      <td>0.596086</td>\n",
       "      <td>0.561658</td>\n",
       "      <td>-0.993104</td>\n",
       "      <td>-0.573248</td>\n",
       "      <td>0.019037</td>\n",
       "      <td>0.038276</td>\n",
       "      <td>0.314367</td>\n",
       "      <td>-1.100919</td>\n",
       "      <td>-0.491054</td>\n",
       "      <td>...</td>\n",
       "      <td>-0.370484</td>\n",
       "      <td>-0.045796</td>\n",
       "      <td>-1.796094</td>\n",
       "      <td>2.824240</td>\n",
       "      <td>0.037345</td>\n",
       "      <td>-0.407447</td>\n",
       "      <td>0.748413</td>\n",
       "      <td>0.046011</td>\n",
       "      <td>1.476708</td>\n",
       "      <td>0.542672</td>\n",
       "    </tr>\n",
       "    <tr>\n",
       "      <th>2022-09-14</th>\n",
       "      <td>0.608406</td>\n",
       "      <td>0.599673</td>\n",
       "      <td>0.596789</td>\n",
       "      <td>0.296090</td>\n",
       "      <td>-0.113603</td>\n",
       "      <td>-0.035393</td>\n",
       "      <td>0.038276</td>\n",
       "      <td>0.416643</td>\n",
       "      <td>0.368435</td>\n",
       "      <td>0.110508</td>\n",
       "      <td>...</td>\n",
       "      <td>-0.745814</td>\n",
       "      <td>0.673913</td>\n",
       "      <td>-1.774365</td>\n",
       "      <td>2.732628</td>\n",
       "      <td>-0.461899</td>\n",
       "      <td>-0.474224</td>\n",
       "      <td>0.271255</td>\n",
       "      <td>-0.494704</td>\n",
       "      <td>1.420398</td>\n",
       "      <td>0.609747</td>\n",
       "    </tr>\n",
       "    <tr>\n",
       "      <th>2022-09-13</th>\n",
       "      <td>0.718596</td>\n",
       "      <td>0.702797</td>\n",
       "      <td>0.608799</td>\n",
       "      <td>-3.879777</td>\n",
       "      <td>-0.610945</td>\n",
       "      <td>0.755438</td>\n",
       "      <td>0.038276</td>\n",
       "      <td>0.382037</td>\n",
       "      <td>-4.344495</td>\n",
       "      <td>-0.539492</td>\n",
       "      <td>...</td>\n",
       "      <td>-0.162382</td>\n",
       "      <td>4.772434</td>\n",
       "      <td>-1.570298</td>\n",
       "      <td>2.923843</td>\n",
       "      <td>1.383669</td>\n",
       "      <td>1.595715</td>\n",
       "      <td>0.148742</td>\n",
       "      <td>-0.633337</td>\n",
       "      <td>1.319426</td>\n",
       "      <td>0.587289</td>\n",
       "    </tr>\n",
       "    <tr>\n",
       "      <th>2022-09-09</th>\n",
       "      <td>0.732220</td>\n",
       "      <td>0.768707</td>\n",
       "      <td>0.767035</td>\n",
       "      <td>1.313648</td>\n",
       "      <td>1.260397</td>\n",
       "      <td>-0.208827</td>\n",
       "      <td>0.038276</td>\n",
       "      <td>0.690989</td>\n",
       "      <td>1.518617</td>\n",
       "      <td>1.894279</td>\n",
       "      <td>...</td>\n",
       "      <td>-0.585549</td>\n",
       "      <td>0.570242</td>\n",
       "      <td>-1.501862</td>\n",
       "      <td>2.980586</td>\n",
       "      <td>-0.343227</td>\n",
       "      <td>-0.473355</td>\n",
       "      <td>-0.094135</td>\n",
       "      <td>-0.907038</td>\n",
       "      <td>1.273581</td>\n",
       "      <td>0.789410</td>\n",
       "    </tr>\n",
       "    <tr>\n",
       "      <th>2022-09-08</th>\n",
       "      <td>0.622180</td>\n",
       "      <td>0.669319</td>\n",
       "      <td>0.641828</td>\n",
       "      <td>0.533233</td>\n",
       "      <td>0.203474</td>\n",
       "      <td>-0.123021</td>\n",
       "      <td>0.038276</td>\n",
       "      <td>0.549235</td>\n",
       "      <td>0.642905</td>\n",
       "      <td>0.541073</td>\n",
       "      <td>...</td>\n",
       "      <td>-0.634913</td>\n",
       "      <td>1.374659</td>\n",
       "      <td>-1.461801</td>\n",
       "      <td>2.825307</td>\n",
       "      <td>-0.429162</td>\n",
       "      <td>-0.474384</td>\n",
       "      <td>-0.025356</td>\n",
       "      <td>-0.829029</td>\n",
       "      <td>1.249501</td>\n",
       "      <td>0.696284</td>\n",
       "    </tr>\n",
       "  </tbody>\n",
       "</table>\n",
       "<p>6 rows × 31 columns</p>\n",
       "</div>"
      ],
      "text/plain": [
       "            target_Open  target_High  target_Low  target_Change  target_%Chg  \\\n",
       "2022-09-16     0.453751     0.450964    0.461522      -1.010351    -0.573600   \n",
       "2022-09-15     0.585799     0.596086    0.561658      -0.993104    -0.573248   \n",
       "2022-09-14     0.608406     0.599673    0.596789       0.296090    -0.113603   \n",
       "2022-09-13     0.718596     0.702797    0.608799      -3.879777    -0.610945   \n",
       "2022-09-09     0.732220     0.768707    0.767035       1.313648     1.260397   \n",
       "2022-09-08     0.622180     0.669319    0.641828       0.533233     0.203474   \n",
       "\n",
       "            target_Volume       RSI  CMBO Last  CMBO Change  CMBO %Chg  ...  \\\n",
       "2022-09-16       0.341243  0.038276   0.245489    -0.742409  -0.485672  ...   \n",
       "2022-09-15       0.019037  0.038276   0.314367    -1.100919  -0.491054  ...   \n",
       "2022-09-14      -0.035393  0.038276   0.416643     0.368435   0.110508  ...   \n",
       "2022-09-13       0.755438  0.038276   0.382037    -4.344495  -0.539492  ...   \n",
       "2022-09-09      -0.208827  0.038276   0.690989     1.518617   1.894279  ...   \n",
       "2022-09-08      -0.123021  0.038276   0.549235     0.642905   0.541073  ...   \n",
       "\n",
       "            TLT Put/Call Vol  TLT Options Vol  TLT Put/Call OI  TLT Total OI  \\\n",
       "2022-09-16         -0.628164         4.022133        -1.853642      2.802145   \n",
       "2022-09-15         -0.370484        -0.045796        -1.796094      2.824240   \n",
       "2022-09-14         -0.745814         0.673913        -1.774365      2.732628   \n",
       "2022-09-13         -0.162382         4.772434        -1.570298      2.923843   \n",
       "2022-09-09         -0.585549         0.570242        -1.501862      2.980586   \n",
       "2022-09-08         -0.634913         1.374659        -1.461801      2.825307   \n",
       "\n",
       "            VIX Change  VIX %Chg  GLD Imp Vol  GLD IV Rank  GLD Total OI  \\\n",
       "2022-09-16    0.004608 -0.452381     0.486191    -0.251761      1.714926   \n",
       "2022-09-15    0.037345 -0.407447     0.748413     0.046011      1.476708   \n",
       "2022-09-14   -0.461899 -0.474224     0.271255    -0.494704      1.420398   \n",
       "2022-09-13    1.383669  1.595715     0.148742    -0.633337      1.319426   \n",
       "2022-09-09   -0.343227 -0.473355    -0.094135    -0.907038      1.273581   \n",
       "2022-09-08   -0.429162 -0.474384    -0.025356    -0.829029      1.249501   \n",
       "\n",
       "            target_Last  \n",
       "2022-09-16     0.474400  \n",
       "2022-09-15     0.542672  \n",
       "2022-09-14     0.609747  \n",
       "2022-09-13     0.587289  \n",
       "2022-09-09     0.789410  \n",
       "2022-09-08     0.696284  \n",
       "\n",
       "[6 rows x 31 columns]"
      ]
     },
     "execution_count": 4,
     "metadata": {},
     "output_type": "execute_result"
    }
   ],
   "source": [
    "data.head(6)"
   ]
  },
  {
   "cell_type": "code",
   "execution_count": 5,
   "id": "2522e799",
   "metadata": {
    "scrolled": true
   },
   "outputs": [
    {
     "data": {
      "text/plain": [
       "Index(['target_Open', 'target_High', 'target_Low', 'target_Change',\n",
       "       'target_%Chg', 'target_Volume', 'RSI', 'CMBO Last', 'CMBO Change',\n",
       "       'CMBO %Chg', 'DXY Open', 'DXY Change %', 'GLD Open', 'GLD Low',\n",
       "       'GLD %Chg', 'GLD Volume', 'SPY Put/Call Vol', 'SPY Put/Call OI',\n",
       "       'TLT Last', 'TLT Volume', 'TLT 1D IV Chg', 'TLT Put/Call Vol',\n",
       "       'TLT Options Vol', 'TLT Put/Call OI', 'TLT Total OI', 'VIX Change',\n",
       "       'VIX %Chg', 'GLD Imp Vol', 'GLD IV Rank', 'GLD Total OI',\n",
       "       'target_Last'],\n",
       "      dtype='object')"
      ]
     },
     "execution_count": 5,
     "metadata": {},
     "output_type": "execute_result"
    }
   ],
   "source": [
    "data.columns"
   ]
  },
  {
   "cell_type": "markdown",
   "id": "623727fc",
   "metadata": {},
   "source": [
    "## FORECASTING"
   ]
  },
  {
   "cell_type": "code",
   "execution_count": 6,
   "id": "fb493f0b",
   "metadata": {
    "scrolled": false
   },
   "outputs": [
    {
     "data": {
      "text/plain": [
       "[<matplotlib.lines.Line2D at 0x7f8b92ed3e80>]"
      ]
     },
     "execution_count": 6,
     "metadata": {},
     "output_type": "execute_result"
    },
    {
     "data": {
      "image/png": "[encoded data removed]",
      "text/plain": [
       "<Figure size 1296x360 with 1 Axes>"
      ]
     },
     "metadata": {
      "needs_background": "light"
     },
     "output_type": "display_data"
    }
   ],
   "source": [
    "plt.figure(figsize=(18,5))\n",
    "plt.plot(data[\"target_Last\"])"
   ]
  },
  {
   "cell_type": "code",
   "execution_count": 7,
   "id": "0e8b92b6",
   "metadata": {},
   "outputs": [
    {
     "name": "stderr",
     "output_type": "stream",
     "text": [
      "2023-02-09 21:54:15.560997: W tensorflow/stream_executor/platform/default/dso_loader.cc:64] Could not load dynamic library 'libcudart.so.11.0'; dlerror: libcudart.so.11.0: cannot open shared object file: No such file or directory\n",
      "2023-02-09 21:54:15.561024: I tensorflow/stream_executor/cuda/cudart_stub.cc:29] Ignore above cudart dlerror if you do not have a GPU set up on your machine.\n"
     ]
    }
   ],
   "source": [
    "from tensorflow.keras import losses,optimizers\n",
    "from tensorflow.keras import metrics"
   ]
  },
  {
   "cell_type": "code",
   "execution_count": 8,
   "id": "6790f18c",
   "metadata": {},
   "outputs": [],
   "source": [
    "from keras.models import Sequential\n",
    "from keras.callbacks import EarlyStopping\n",
    "from keras.layers import Dense\n",
    "from keras.layers import LSTM,Dropout\n",
    "from keras.preprocessing.sequence import TimeseriesGenerator"
   ]
  },
  {
   "cell_type": "code",
   "execution_count": 9,
   "id": "5f12decf",
   "metadata": {},
   "outputs": [],
   "source": [
    "dataset = data.values"
   ]
  },
  {
   "cell_type": "code",
   "execution_count": 10,
   "id": "2c7f4140",
   "metadata": {},
   "outputs": [
    {
     "data": {
      "text/plain": [
       "(857, 31)"
      ]
     },
     "execution_count": 10,
     "metadata": {},
     "output_type": "execute_result"
    }
   ],
   "source": [
    "dataset.shape"
   ]
  },
  {
   "cell_type": "code",
   "execution_count": 13,
   "id": "16ecb33b",
   "metadata": {
    "collapsed": true
   },
   "outputs": [
    {
     "data": {
      "text/plain": [
       "array([[ 0.47440038],\n",
       "       [ 0.54267233],\n",
       "       [ 0.60974653],\n",
       "       [ 0.58728865],\n",
       "       [ 0.78940957],\n",
       "       [ 0.69628423],\n",
       "       [ 0.55225436],\n",
       "       [ 0.5744128 ],\n",
       "       [ 0.61843025],\n",
       "       [ 0.66379516],\n",
       "       [ 0.72997105],\n",
       "       [ 0.77009579],\n",
       "       [ 0.98269705],\n",
       "       [ 0.89526104],\n",
       "       [ 0.8754981 ],\n",
       "       [ 0.89047002],\n",
       "       [ 1.0220732 ],\n",
       "       [ 1.10816173],\n",
       "       [ 1.08959655],\n",
       "       [ 1.13526091],\n",
       "       [ 1.1226845 ],\n",
       "       [ 0.86052618],\n",
       "       [ 0.88508013],\n",
       "       [ 0.902747  ],\n",
       "       [ 0.90693914],\n",
       "       [ 0.81126857],\n",
       "       [ 0.87010821],\n",
       "       [ 0.78147445],\n",
       "       [ 0.70616569],\n",
       "       [ 0.55420071],\n",
       "       [ 0.6242693 ],\n",
       "       [ 0.61708277],\n",
       "       [ 0.67247888],\n",
       "       [ 0.61229176],\n",
       "       [ 0.57486196],\n",
       "       [ 0.42035175],\n",
       "       [ 0.46796246],\n",
       "       [ 0.3598652 ],\n",
       "       [ 0.37363936],\n",
       "       [ 0.52575406],\n",
       "       [ 0.43981525],\n",
       "       [ 0.40972169],\n",
       "       [ 0.34998373],\n",
       "       [ 0.39624696],\n",
       "       [ 0.40088826],\n",
       "       [ 0.5197653 ],\n",
       "       [ 0.54207346],\n",
       "       [ 0.36211098],\n",
       "       [ 0.30716404],\n",
       "       [ 0.31734495],\n",
       "       [ 0.17945357],\n",
       "       [ 0.19128138],\n",
       "       [ 0.37917897],\n",
       "       [ 0.29937864],\n",
       "       [ 0.31629691],\n",
       "       [ 0.71215446],\n",
       "       [ 0.92625291],\n",
       "       [ 0.86711383],\n",
       "       [ 0.83417561],\n",
       "       [ 0.88418182],\n",
       "       [ 0.91906639],\n",
       "       [ 0.77009579],\n",
       "       [ 0.65121875],\n",
       "       [ 0.59911647],\n",
       "       [ 0.64448139],\n",
       "       [ 0.53533609],\n",
       "       [ 0.53279087],\n",
       "       [ 0.56872347],\n",
       "       [ 0.81516127],\n",
       "       [ 0.69194237],\n",
       "       [ 0.7163466 ],\n",
       "       [ 0.66319629],\n",
       "       [ 0.89735711],\n",
       "       [ 1.12567888],\n",
       "       [ 0.87025793],\n",
       "       [ 1.10696398],\n",
       "       [ 0.94915995],\n",
       "       [ 0.9316428 ],\n",
       "       [ 1.11744432],\n",
       "       [ 1.08046368],\n",
       "       [ 1.26042615],\n",
       "       [ 1.35998942],\n",
       "       [ 1.36493015],\n",
       "       [ 1.25907868],\n",
       "       [ 1.25638374],\n",
       "       [ 1.33902873],\n",
       "       [ 1.40280911],\n",
       "       [ 1.42077541],\n",
       "       [ 1.45461195],\n",
       "       [ 1.54099993],\n",
       "       [ 1.48290888],\n",
       "       [ 1.46374482],\n",
       "       [ 1.56944657],\n",
       "       [ 1.61211654],\n",
       "       [ 1.52767492],\n",
       "       [ 1.47946534],\n",
       "       [ 1.44652711],\n",
       "       [ 1.34636497],\n",
       "       [ 1.43305239],\n",
       "       [ 1.3551984 ],\n",
       "       [ 1.35714475],\n",
       "       [ 1.30549163],\n",
       "       [ 1.22389467],\n",
       "       [ 1.08241003],\n",
       "       [ 0.94511753],\n",
       "       [ 0.93388859],\n",
       "       [ 1.22524214],\n",
       "       [ 1.25788093],\n",
       "       [ 1.13945304],\n",
       "       [ 1.23901631],\n",
       "       [ 1.25578486],\n",
       "       [ 1.11430022],\n",
       "       [ 1.01922853],\n",
       "       [ 1.13331456],\n",
       "       [ 1.2030837 ],\n",
       "       [ 1.24545423],\n",
       "       [ 1.38828635],\n",
       "       [ 1.38080039],\n",
       "       [ 1.2747992 ],\n",
       "       [ 1.55207915],\n",
       "       [ 1.45326448],\n",
       "       [ 1.38828635],\n",
       "       [ 1.54923448],\n",
       "       [ 1.4378434 ],\n",
       "       [ 1.31866692],\n",
       "       [ 1.15831766],\n",
       "       [ 1.19035757],\n",
       "       [ 1.20667696],\n",
       "       [ 1.28707617],\n",
       "       [ 1.2592284 ],\n",
       "       [ 1.39053213],\n",
       "       [ 1.46539173],\n",
       "       [ 1.53635863],\n",
       "       [ 1.65957753],\n",
       "       [ 1.65673286],\n",
       "       [ 1.68008906],\n",
       "       [ 1.70778711],\n",
       "       [ 1.85166726],\n",
       "       [ 1.85406276],\n",
       "       [ 1.81288998],\n",
       "       [ 1.83085629],\n",
       "       [ 1.85061922],\n",
       "       [ 1.84148635],\n",
       "       [ 1.8473254 ],\n",
       "       [ 1.74761241],\n",
       "       [ 1.70404413],\n",
       "       [ 1.63472414],\n",
       "       [ 1.51375103],\n",
       "       [ 1.58696372],\n",
       "       [ 1.68547895],\n",
       "       [ 1.74761241],\n",
       "       [ 1.63921572],\n",
       "       [ 1.68727558],\n",
       "       [ 1.74970848],\n",
       "       [ 1.73144274],\n",
       "       [ 1.71287756],\n",
       "       [ 1.49039484],\n",
       "       [ 1.54998308],\n",
       "       [ 1.44667683],\n",
       "       [ 1.52243475],\n",
       "       [ 1.6577809 ],\n",
       "       [ 1.57348899],\n",
       "       [ 1.73024499],\n",
       "       [ 1.71153009],\n",
       "       [ 1.7022475 ],\n",
       "       [ 1.72201043],\n",
       "       [ 1.73458684],\n",
       "       [ 1.71078149],\n",
       "       [ 1.72784948],\n",
       "       [ 1.70015143],\n",
       "       [ 1.6453542 ],\n",
       "       [ 1.64310842],\n",
       "       [ 1.72260931],\n",
       "       [ 1.71662054],\n",
       "       [ 1.65957753],\n",
       "       [ 1.61735672],\n",
       "       [ 1.58950894],\n",
       "       [ 1.57768113],\n",
       "       [ 1.56375724],\n",
       "       [ 1.49818024],\n",
       "       [ 1.52842351],\n",
       "       [ 1.52228503],\n",
       "       [ 1.48590326],\n",
       "       [ 1.49294006],\n",
       "       [ 1.4752732 ],\n",
       "       [ 1.4487729 ],\n",
       "       [ 1.39711978],\n",
       "       [ 1.37735685],\n",
       "       [ 1.32690148],\n",
       "       [ 1.21730703],\n",
       "       [ 1.19395083],\n",
       "       [ 1.20997079],\n",
       "       [ 1.25743177],\n",
       "       [ 1.21311489],\n",
       "       [ 1.18616543],\n",
       "       [ 1.12687663],\n",
       "       [ 1.20637753],\n",
       "       [ 1.19544802],\n",
       "       [ 1.32899755],\n",
       "       [ 1.34801188],\n",
       "       [ 1.33708238],\n",
       "       [ 1.25743177],\n",
       "       [ 1.19410055],\n",
       "       [ 1.20023904],\n",
       "       [ 1.31043237],\n",
       "       [ 1.39682034],\n",
       "       [ 1.4074504 ],\n",
       "       [ 1.35190458],\n",
       "       [ 1.38798691],\n",
       "       [ 1.42391952],\n",
       "       [ 1.45281532],\n",
       "       [ 1.46104988],\n",
       "       [ 1.48530439],\n",
       "       [ 1.4869513 ],\n",
       "       [ 1.46254707],\n",
       "       [ 1.47257825],\n",
       "       [ 1.44293385],\n",
       "       [ 1.38319589],\n",
       "       [ 1.42287148],\n",
       "       [ 1.40879788],\n",
       "       [ 1.39816781],\n",
       "       [ 1.33977733],\n",
       "       [ 1.28737561],\n",
       "       [ 1.2771947 ],\n",
       "       [ 1.34995823],\n",
       "       [ 1.39382596],\n",
       "       [ 1.37810544],\n",
       "       [ 1.36597819],\n",
       "       [ 1.34606553],\n",
       "       [ 1.32959642],\n",
       "       [ 1.32136187],\n",
       "       [ 1.32675176],\n",
       "       [ 1.27420032],\n",
       "       [ 1.30668939],\n",
       "       [ 1.25338935],\n",
       "       [ 1.26716352],\n",
       "       [ 1.29920343],\n",
       "       [ 1.27195453],\n",
       "       [ 1.27464948],\n",
       "       [ 1.30474304],\n",
       "       [ 1.28857336],\n",
       "       [ 1.22149916],\n",
       "       [ 1.20787472],\n",
       "       [ 1.15562272],\n",
       "       [ 1.06444373],\n",
       "       [ 1.15981486],\n",
       "       [ 1.2108691 ],\n",
       "       [ 1.23317726],\n",
       "       [ 1.22344551],\n",
       "       [ 1.24575367],\n",
       "       [ 1.22239748],\n",
       "       [ 1.20652724],\n",
       "       [ 1.18362021],\n",
       "       [ 1.14619041],\n",
       "       [ 1.11070696],\n",
       "       [ 1.10531707],\n",
       "       [ 1.10187353],\n",
       "       [ 1.08899768],\n",
       "       [ 1.06639008],\n",
       "       [ 1.02896028],\n",
       "       [ 1.03659596],\n",
       "       [ 1.00290914],\n",
       "       [ 0.91397594],\n",
       "       [ 1.01952797],\n",
       "       [ 1.02162404],\n",
       "       [ 1.05710749],\n",
       "       [ 1.06878558],\n",
       "       [ 1.04408192],\n",
       "       [ 1.01473696],\n",
       "       [ 1.02416926],\n",
       "       [ 1.02282179],\n",
       "       [ 1.02896028],\n",
       "       [ 0.98509255],\n",
       "       [ 0.99063217],\n",
       "       [ 0.97940323],\n",
       "       [ 0.9761094 ],\n",
       "       [ 0.96368271],\n",
       "       [ 0.9776066 ],\n",
       "       [ 0.91427538],\n",
       "       [ 0.91936583],\n",
       "       [ 0.85318994],\n",
       "       [ 0.86935962],\n",
       "       [ 0.92295909],\n",
       "       [ 0.93882932],\n",
       "       [ 0.84450623],\n",
       "       [ 0.90334587],\n",
       "       [ 0.95919113],\n",
       "       [ 1.02177376],\n",
       "       [ 0.92640263],\n",
       "       [ 0.92445628],\n",
       "       [ 0.96308383],\n",
       "       [ 0.94960911],\n",
       "       [ 0.9909316 ],\n",
       "       [ 0.9511063 ],\n",
       "       [ 0.95290293],\n",
       "       [ 0.9542504 ],\n",
       "       [ 0.94122483],\n",
       "       [ 0.87430035],\n",
       "       [ 0.93119364],\n",
       "       [ 0.87280316],\n",
       "       [ 0.91831779],\n",
       "       [ 0.94901023],\n",
       "       [ 0.92819926],\n",
       "       [ 0.86202338],\n",
       "       [ 0.88313378],\n",
       "       [ 0.81815565],\n",
       "       [ 0.78222305],\n",
       "       [ 0.78581631],\n",
       "       [ 0.69972777],\n",
       "       [ 0.63564795],\n",
       "       [ 0.61169288],\n",
       "       [ 0.6274134 ],\n",
       "       [ 0.63040778],\n",
       "       [ 0.53638413],\n",
       "       [ 0.50374534],\n",
       "       [ 0.53338974],\n",
       "       [ 0.57965297],\n",
       "       [ 0.53309031],\n",
       "       [ 0.56303414],\n",
       "       [ 0.64957184],\n",
       "       [ 0.62935975],\n",
       "       [ 0.63684571],\n",
       "       [ 0.6016617 ],\n",
       "       [ 0.59372658],\n",
       "       [ 0.49850517],\n",
       "       [ 0.41690821],\n",
       "       [ 0.44550458],\n",
       "       [ 0.41241663],\n",
       "       [ 0.48907286],\n",
       "       [ 0.3965464 ],\n",
       "       [ 0.42604108],\n",
       "       [ 0.567376  ],\n",
       "       [ 0.5034459 ],\n",
       "       [ 0.4964091 ],\n",
       "       [ 0.54132486],\n",
       "       [ 0.55165549],\n",
       "       [ 0.57665859],\n",
       "       [ 0.57531112],\n",
       "       [ 0.58040157],\n",
       "       [ 0.55150577],\n",
       "       [ 0.54461868],\n",
       "       [ 0.54851138],\n",
       "       [ 0.48383269],\n",
       "       [ 0.41885456],\n",
       "       [ 0.41436298],\n",
       "       [ 0.24248535],\n",
       "       [ 0.35567306],\n",
       "       [ 0.30746348],\n",
       "       [ 0.44790008],\n",
       "       [ 0.45688324],\n",
       "       [ 0.43427564],\n",
       "       [ 0.45463745],\n",
       "       [ 0.44939728],\n",
       "       [ 0.37094442],\n",
       "       [ 0.32677725],\n",
       "       [ 0.36809975],\n",
       "       [ 0.38801241],\n",
       "       [ 0.37274105],\n",
       "       [ 0.37154329],\n",
       "       [ 0.37768178],\n",
       "       [ 0.29458763],\n",
       "       [ 0.22332129],\n",
       "       [ 0.29952836],\n",
       "       [ 0.27123143],\n",
       "       [ 0.26329632],\n",
       "       [ 0.27392638],\n",
       "       [ 0.22646539],\n",
       "       [ 0.20505555],\n",
       "       [ 0.20011482],\n",
       "       [ 0.20939741],\n",
       "       [ 0.22916034],\n",
       "       [ 0.27497441],\n",
       "       [ 0.24398254],\n",
       "       [ 0.23529883],\n",
       "       [ 0.16148726],\n",
       "       [ 0.18604121],\n",
       "       [ 0.19247914],\n",
       "       [ 0.24398254],\n",
       "       [ 0.19188026],\n",
       "       [ 0.19337745],\n",
       "       [ 0.12256027],\n",
       "       [ 0.14666506],\n",
       "       [ 0.13154342],\n",
       "       [ 0.1399277 ],\n",
       "       [ 0.05368944],\n",
       "       [ 0.02179925],\n",
       "       [ 0.05848046],\n",
       "       [ 0.03602258],\n",
       "       [ 0.10100071],\n",
       "       [ 0.13019595],\n",
       "       [ 0.06327147],\n",
       "       [-0.00994121],\n",
       "       [ 0.04186163],\n",
       "       [ 0.01027088],\n",
       "       [-0.05560557],\n",
       "       [-0.05440782],\n",
       "       [-0.26715879],\n",
       "       [-0.35444508],\n",
       "       [-0.40924231],\n",
       "       [-0.3577389 ],\n",
       "       [-0.40744568],\n",
       "       [-0.23437029],\n",
       "       [-0.21685314],\n",
       "       [-0.12118258],\n",
       "       [-0.13869972],\n",
       "       [-0.16684693],\n",
       "       [-0.15711518],\n",
       "       [-0.17762671],\n",
       "       [-0.09857498],\n",
       "       [-0.09543088],\n",
       "       [-0.08899295],\n",
       "       [-0.05605473],\n",
       "       [-0.02161931],\n",
       "       [-0.10516262],\n",
       "       [-0.15112642],\n",
       "       [-0.19634161],\n",
       "       [-0.2836279 ],\n",
       "       [-0.2999473 ],\n",
       "       [-0.25203715],\n",
       "       [-0.28422678],\n",
       "       [-0.32195602],\n",
       "       [-0.29470712],\n",
       "       [-0.3764538 ],\n",
       "       [-0.45475694],\n",
       "       [-0.46763279],\n",
       "       [-0.35294789],\n",
       "       [-0.40280438],\n",
       "       [-0.34770772],\n",
       "       [-0.27000346],\n",
       "       [-0.22538714],\n",
       "       [-0.20517505],\n",
       "       [-0.23077703],\n",
       "       [-0.29665347],\n",
       "       [-0.2991987 ],\n",
       "       [-0.21086437],\n",
       "       [-0.16924244],\n",
       "       [-0.12702163],\n",
       "       [-0.01907409],\n",
       "       [-0.0683317 ],\n",
       "       [-0.04931736],\n",
       "       [-0.08300418],\n",
       "       [-0.09438284],\n",
       "       [-0.14603596],\n",
       "       [-0.16400227],\n",
       "       [-0.21550567],\n",
       "       [-0.23347197],\n",
       "       [-0.24919249],\n",
       "       [-0.22808208],\n",
       "       [-0.23901158],\n",
       "       [-0.25503154],\n",
       "       [-0.25518126],\n",
       "       [-0.24604839],\n",
       "       [-0.27404587],\n",
       "       [-0.28901779],\n",
       "       [-0.29261105],\n",
       "       [-0.32584872],\n",
       "       [-0.35654115],\n",
       "       [-0.40954175],\n",
       "       [-0.44786986],\n",
       "       [-0.43050243],\n",
       "       [-0.48964152],\n",
       "       [-0.45894908],\n",
       "       [-0.49398337],\n",
       "       [-0.46284178],\n",
       "       [-0.40445129],\n",
       "       [-0.43214934],\n",
       "       [-0.44247997],\n",
       "       [-0.48140696],\n",
       "       [-0.49533084],\n",
       "       [-0.47946061],\n",
       "       [-0.52332833],\n",
       "       [-0.58441377],\n",
       "       [-0.54324099],\n",
       "       [-0.59130085],\n",
       "       [-0.56435139],\n",
       "       [-0.600284  ],\n",
       "       [-0.62349048],\n",
       "       [-0.64909246],\n",
       "       [-0.6814318 ],\n",
       "       [-0.73982229],\n",
       "       [-0.80584846],\n",
       "       [-0.69655344],\n",
       "       [-0.7453619 ],\n",
       "       [-0.62618542],\n",
       "       [-0.64759527],\n",
       "       [-0.67723967],\n",
       "       [-0.63022784],\n",
       "       [-0.63202447],\n",
       "       [-0.61256097],\n",
       "       [-0.70104502],\n",
       "       [-0.79746418],\n",
       "       [-0.52213058],\n",
       "       [-0.45924852],\n",
       "       [-0.51704013],\n",
       "       [-0.63651605],\n",
       "       [-0.62423907],\n",
       "       [-0.68562394],\n",
       "       [-0.7235029 ],\n",
       "       [-0.74191836],\n",
       "       [-0.76213045],\n",
       "       [-0.75374618],\n",
       "       [-0.82037122],\n",
       "       [-0.874869  ],\n",
       "       [-0.88325328],\n",
       "       [-0.85256084],\n",
       "       [-0.92682156],\n",
       "       [-0.88145665],\n",
       "       [-1.01201179],\n",
       "       [-1.031625  ],\n",
       "       [-1.08208037],\n",
       "       [-0.91888645],\n",
       "       [-0.91978476],\n",
       "       [-1.04240478],\n",
       "       [-1.01335926],\n",
       "       [-0.94912972],\n",
       "       [-0.90825638],\n",
       "       [-1.02024634],\n",
       "       [-1.00048341],\n",
       "       [-1.06156884],\n",
       "       [-1.11980961],\n",
       "       [-1.11951017],\n",
       "       [-1.21024   ],\n",
       "       [-1.08223009],\n",
       "       [-1.0066219 ],\n",
       "       [-1.11951017],\n",
       "       [-1.13957254],\n",
       "       [-1.04929187],\n",
       "       [-1.17101357],\n",
       "       [-1.1329849 ],\n",
       "       [-1.1954178 ],\n",
       "       [-1.3327103 ],\n",
       "       [-1.5822922 ],\n",
       "       [-1.52779441],\n",
       "       [-1.43916065],\n",
       "       [-1.38077016],\n",
       "       [-1.50398906],\n",
       "       [-1.38750753],\n",
       "       [-1.60325289],\n",
       "       [-1.65775067],\n",
       "       [-1.96018345],\n",
       "       [-1.87259772],\n",
       "       [-1.69727654],\n",
       "       [-1.70491222],\n",
       "       [-1.51327165],\n",
       "       [-1.70715801],\n",
       "       [-1.26593554],\n",
       "       [-1.58348995],\n",
       "       [-1.19047707],\n",
       "       [-1.19242342],\n",
       "       [-0.84462573],\n",
       "       [-0.61405817],\n",
       "       [-0.80300379],\n",
       "       [-0.6705023 ],\n",
       "       [-0.86259203],\n",
       "       [-0.84387713],\n",
       "       [-0.63441998],\n",
       "       [-0.61720227],\n",
       "       [-0.47092662],\n",
       "       [-0.30533719],\n",
       "       [-0.25338463],\n",
       "       [-0.23257366],\n",
       "       [-0.25667845],\n",
       "       [-0.24365288],\n",
       "       [-0.25173771],\n",
       "       [-0.24634782],\n",
       "       [-0.27868717],\n",
       "       [-0.28737088],\n",
       "       [-0.32450124],\n",
       "       [-0.29785123],\n",
       "       [-0.37151307],\n",
       "       [-0.44547435],\n",
       "       [-0.48125724],\n",
       "       [-0.39217432],\n",
       "       [-0.40804455],\n",
       "       [-0.40400214],\n",
       "       [-0.45475694],\n",
       "       [-0.37585493],\n",
       "       [-0.33168776],\n",
       "       [-0.33737709],\n",
       "       [-0.33797597],\n",
       "       [-0.32824422],\n",
       "       [-0.3436653 ],\n",
       "       [-0.38453864],\n",
       "       [-0.39561786],\n",
       "       [-0.3881319 ],\n",
       "       [-0.421669  ],\n",
       "       [-0.4075954 ],\n",
       "       [-0.46628532],\n",
       "       [-0.45266087],\n",
       "       [-0.47931089],\n",
       "       [-0.49098899],\n",
       "       [-0.46433897],\n",
       "       [-0.46314122],\n",
       "       [-0.4887432 ],\n",
       "       [-0.48889292],\n",
       "       [-0.49622916],\n",
       "       [-0.49368393],\n",
       "       [-0.51329715],\n",
       "       [-0.51359659],\n",
       "       [-0.51464462],\n",
       "       [-0.54728341],\n",
       "       [-0.55012807],\n",
       "       [-0.59070197],\n",
       "       [-0.59878681],\n",
       "       [-0.58396461],\n",
       "       [-0.63501885],\n",
       "       [-0.66361522],\n",
       "       [-0.63232391],\n",
       "       [-0.59234888],\n",
       "       [-0.57483174],\n",
       "       [-0.59579242],\n",
       "       [-0.60642249],\n",
       "       [-0.64250481],\n",
       "       [-0.65283544],\n",
       "       [-0.64534948],\n",
       "       [-0.62798205],\n",
       "       [-0.62663458],\n",
       "       [-0.63007812],\n",
       "       [-0.66361522],\n",
       "       [-0.67035258],\n",
       "       [-0.67184978],\n",
       "       [-0.68158152],\n",
       "       [-0.68412675],\n",
       "       [-0.70029642],\n",
       "       [-0.696254  ],\n",
       "       [-0.71466947],\n",
       "       [-0.75674056],\n",
       "       [-0.7446133 ],\n",
       "       [-0.75853719],\n",
       "       [-0.75718972],\n",
       "       [-0.78264198],\n",
       "       [-0.80105744],\n",
       "       [-0.80839368],\n",
       "       [-0.82141925],\n",
       "       [-0.80674677],\n",
       "       [-0.83699005],\n",
       "       [-0.81737683],\n",
       "       [-0.83055212],\n",
       "       [-0.8233656 ],\n",
       "       [-0.86723333],\n",
       "       [-0.90780723],\n",
       "       [-0.93730191],\n",
       "       [-0.91020273],\n",
       "       [-0.8911884 ],\n",
       "       [-0.90780723],\n",
       "       [-0.85495635],\n",
       "       [-0.87546788],\n",
       "       [-0.85151281],\n",
       "       [-0.84223022],\n",
       "       [-0.86843108],\n",
       "       [-0.83339679],\n",
       "       [-0.83234875],\n",
       "       [-0.79042738],\n",
       "       [-0.79012794],\n",
       "       [-0.79282289],\n",
       "       [-0.80420154],\n",
       "       [-0.79027766],\n",
       "       [-0.78728328],\n",
       "       [-0.83459454],\n",
       "       [-0.83354651],\n",
       "       [-0.83923584],\n",
       "       [-0.89582969],\n",
       "       [-0.91963504],\n",
       "       [-0.91768869],\n",
       "       [-0.97293508],\n",
       "       [-1.00317835],\n",
       "       [-0.98626009],\n",
       "       [-1.03342163],\n",
       "       [-0.92098252],\n",
       "       [-0.91963504],\n",
       "       [-0.95496877],\n",
       "       [-0.92143167],\n",
       "       [-0.97353395],\n",
       "       [-1.03641602],\n",
       "       [-1.04764496],\n",
       "       [-0.91813785],\n",
       "       [-0.9021179 ],\n",
       "       [-0.98670924],\n",
       "       [-1.04884271],\n",
       "       [-0.91708982],\n",
       "       [-0.88385216],\n",
       "       [-0.84507488],\n",
       "       [-0.79581727],\n",
       "       [-0.78473805],\n",
       "       [-0.77650349],\n",
       "       [-0.80659705],\n",
       "       [-0.78503749],\n",
       "       [-0.80614789],\n",
       "       [-0.83803808],\n",
       "       [-0.84896758],\n",
       "       [-0.8241142 ],\n",
       "       [-0.84043359],\n",
       "       [-0.81093891],\n",
       "       [-0.79536811],\n",
       "       [-0.81692768],\n",
       "       [-0.82740802],\n",
       "       [-0.85420776],\n",
       "       [-0.82965381],\n",
       "       [-0.82456335],\n",
       "       [-0.8600468 ],\n",
       "       [-0.87157518],\n",
       "       [-0.91140049],\n",
       "       [-0.93385837],\n",
       "       [-0.94927944],\n",
       "       [-0.94493759],\n",
       "       [-0.90181846],\n",
       "       [-0.89642857],\n",
       "       [-0.8685808 ],\n",
       "       [-0.91050217],\n",
       "       [-0.92038364],\n",
       "       [-0.96574856],\n",
       "       [-0.96739547],\n",
       "       [-0.96260445],\n",
       "       [-0.98042104],\n",
       "       [-0.97278536],\n",
       "       [-1.03417023],\n",
       "       [-1.06171856],\n",
       "       [-1.18733296],\n",
       "       [-1.17685262],\n",
       "       [-1.1205582 ],\n",
       "       [-1.13193686],\n",
       "       [-1.10378965],\n",
       "       [-1.0644135 ],\n",
       "       [-1.07399553],\n",
       "       [-1.02174353],\n",
       "       [-1.00856825],\n",
       "       [-1.04689636],\n",
       "       [-1.01859943],\n",
       "       [-0.99075166],\n",
       "       [-1.03027753],\n",
       "       [-1.05513091],\n",
       "       [-1.09315959],\n",
       "       [-1.00632246],\n",
       "       [-0.99329689],\n",
       "       [-0.98730812],\n",
       "       [-0.91409543],\n",
       "       [-0.89597941],\n",
       "       [-0.93864938],\n",
       "       [-0.89612913],\n",
       "       [-0.89837492],\n",
       "       [-0.905262  ],\n",
       "       [-0.92562381],\n",
       "       [-0.92292887],\n",
       "       [-0.91319712],\n",
       "       [-0.95227383],\n",
       "       [-0.95601681],\n",
       "       [-0.9645508 ],\n",
       "       [-0.95392074],\n",
       "       [-0.9567654 ],\n",
       "       [-0.95392074],\n",
       "       [-0.98311598],\n",
       "       [-0.98191823],\n",
       "       [-0.99659071],\n",
       "       [-0.99853706],\n",
       "       [-1.00991572],\n",
       "       [-1.01665308],\n",
       "       [-1.01874915],\n",
       "       [-1.06890508],\n",
       "       [-1.09540538],\n",
       "       [-1.11127561],\n",
       "       [-1.08926689],\n",
       "       [-1.12040848],\n",
       "       [-1.11726438],\n",
       "       [-1.03521826],\n",
       "       [-1.08282897],\n",
       "       [-1.07010283],\n",
       "       [-1.07115087],\n",
       "       [-1.08642223],\n",
       "       [-1.08866801],\n",
       "       [-1.08597307],\n",
       "       [-1.11367112],\n",
       "       [-1.18074532],\n",
       "       [-1.14601047],\n",
       "       [-1.12070792],\n",
       "       [-1.11501859],\n",
       "       [-1.09974723],\n",
       "       [-1.12579837],\n",
       "       [-1.11801298],\n",
       "       [-1.11621635],\n",
       "       [-1.11322196],\n",
       "       [-1.11891129],\n",
       "       [-1.14466299],\n",
       "       [-1.12984079],\n",
       "       [-1.13822507],\n",
       "       [-1.14541159],\n",
       "       [-1.19017763],\n",
       "       [-1.18104476],\n",
       "       [-1.19436977],\n",
       "       [-1.24871783],\n",
       "       [-1.25365857],\n",
       "       [-1.20934169],\n",
       "       [-1.22640967],\n",
       "       [-1.25485632],\n",
       "       [-1.25680267],\n",
       "       [-1.29198668],\n",
       "       [-1.35441959],\n",
       "       [-1.34917941],\n",
       "       [-1.31893614],\n",
       "       [-1.35232352],\n",
       "       [-1.35441959],\n",
       "       [-1.36265414],\n",
       "       [-1.30875523],\n",
       "       [-1.36115695],\n",
       "       [-1.39080135],\n",
       "       [-1.40023366],\n",
       "       [-1.44440082],\n",
       "       [-1.42074519],\n",
       "       [-1.42224238],\n",
       "       [-1.45383313],\n",
       "       [-1.48961602],\n",
       "       [-1.51941014],\n",
       "       [-1.64188044],\n",
       "       [-1.55249808],\n",
       "       [-1.55639078],\n",
       "       [-1.58887984],\n",
       "       [-1.58408883],\n",
       "       [-1.61238576],\n",
       "       [-1.78965329],\n",
       "       [-1.69443188],\n",
       "       [-1.59756356],\n",
       "       [-1.53632841],\n",
       "       [-1.47913567],\n",
       "       [-1.47494354],\n",
       "       [-1.39843703],\n",
       "       [-1.32507462],\n",
       "       [-1.32372715],\n",
       "       [-1.3436398 ],\n",
       "       [-1.34453812],\n",
       "       [-1.17116329],\n",
       "       [-1.1961664 ],\n",
       "       [-1.18718324],\n",
       "       [-1.27970971],\n",
       "       [-1.29318443],\n",
       "       [-1.35681509],\n",
       "       [-1.3303148 ],\n",
       "       [-1.34378952],\n",
       "       [-1.26922936],\n",
       "       [-1.19990938],\n",
       "       [-1.21053944],\n",
       "       [-1.25276025],\n",
       "       [-1.22491248],\n",
       "       [-1.2172768 ],\n",
       "       [-1.24632233],\n",
       "       [-1.28914202],\n",
       "       [-1.34768222],\n",
       "       [-1.3256735 ],\n",
       "       [-1.25455688],\n",
       "       [-1.32582322],\n",
       "       [-1.20170601],\n",
       "       [-1.18074532],\n",
       "       [-1.16218014],\n",
       "       [-1.15993435],\n",
       "       [-1.09929808],\n",
       "       [-1.10004667],\n",
       "       [-1.18987819],\n",
       "       [-1.16667172],\n",
       "       [-1.1314877 ]])"
      ]
     },
     "execution_count": 13,
     "metadata": {},
     "output_type": "execute_result"
    }
   ],
   "source": [
    "sc = StandardScaler()\n",
    "sc_dataset = sc.fit_transform(dataset)\n",
    "\n",
    "pred_sc = StandardScaler()\n",
    "pred_sc.fit_transform(dataset[:,-1:]) #for output values"
   ]
  },
  {
   "cell_type": "code",
   "execution_count": 14,
   "id": "ba76d3b4",
   "metadata": {
    "collapsed": true
   },
   "outputs": [
    {
     "data": {
      "text/plain": [
       "array([[ 0.45375059,  0.45096418,  0.46152217, ..., -0.25176102,\n",
       "         1.71492613,  0.47440038],\n",
       "       [ 0.58579891,  0.59608563,  0.56165847, ...,  0.04601126,\n",
       "         1.47670813,  0.54267233],\n",
       "       [ 0.60840582,  0.59967256,  0.59678874, ..., -0.49470396,\n",
       "         1.42039798,  0.60974653],\n",
       "       ...,\n",
       "       [-1.17200075, -1.18124107, -1.15702274, ...,  1.1301163 ,\n",
       "        -0.65010279, -1.18987819],\n",
       "       [-1.15373557, -1.1804938 , -1.18599771, ...,  0.95715875,\n",
       "        -0.70600939, -1.16667172],\n",
       "       [-1.00312263, -1.03372834, -1.10327642, ...,  0.71510734,\n",
       "        -1.0653762 , -1.1314877 ]])"
      ]
     },
     "execution_count": 14,
     "metadata": {},
     "output_type": "execute_result"
    }
   ],
   "source": [
    "sc_dataset"
   ]
  },
  {
   "cell_type": "markdown",
   "id": "00d26d7a",
   "metadata": {},
   "source": [
    "# TIME SERIES SHAPING"
   ]
  },
  {
   "cell_type": "code",
   "execution_count": 15,
   "id": "82f8440d",
   "metadata": {},
   "outputs": [
    {
     "data": {
      "text/plain": [
       "(857, 31)"
      ]
     },
     "execution_count": 15,
     "metadata": {},
     "output_type": "execute_result"
    }
   ],
   "source": [
    "sc_dataset.shape"
   ]
  },
  {
   "cell_type": "code",
   "execution_count": 16,
   "id": "b6de48c0",
   "metadata": {
    "collapsed": true
   },
   "outputs": [
    {
     "data": {
      "text/plain": [
       "array([[ 4.53750590e-01,  4.50964180e-01,  4.61522167e-01,\n",
       "        -1.01035052e+00, -5.73599957e-01,  3.41243030e-01,\n",
       "         3.82757359e-02,  2.45488592e-01, -7.42409155e-01,\n",
       "        -4.85671650e-01,  3.24618898e+00,  3.10480438e-02,\n",
       "        -6.72389517e-02, -4.72610992e-02,  3.73257853e-01,\n",
       "        -4.78626847e-01,  1.44520526e-01, -1.59865646e-01,\n",
       "        -2.04476585e+00,  7.73225107e-01,  4.61268996e-01,\n",
       "        -6.28164044e-01,  4.02213344e+00, -1.85364150e+00,\n",
       "         2.80214515e+00,  4.60786902e-03, -4.52380838e-01,\n",
       "         4.86191172e-01, -2.51761017e-01,  1.71492613e+00,\n",
       "         4.74400381e-01],\n",
       "       [ 5.85798908e-01,  5.96085625e-01,  5.61658467e-01,\n",
       "        -9.93103782e-01, -5.73247650e-01,  1.90367455e-02,\n",
       "         3.82757359e-02,  3.14366631e-01, -1.10091905e+00,\n",
       "        -4.91053718e-01,  3.20000460e+00,  1.62902224e-01,\n",
       "         3.45798038e-02, -3.35533647e-02, -6.68593194e-01,\n",
       "         6.84443314e-01, -1.72400194e-01, -4.55789310e-01,\n",
       "        -1.98966543e+00, -4.02152893e-01, -1.64194839e-01,\n",
       "        -3.70483664e-01, -4.57960793e-02, -1.79609437e+00,\n",
       "         2.82424023e+00,  3.73452265e-02, -4.07447392e-01,\n",
       "         7.48412779e-01,  4.60112558e-02,  1.47670813e+00,\n",
       "         5.42672334e-01],\n",
       "       [ 6.08405819e-01,  5.99672561e-01,  5.96788743e-01,\n",
       "         2.96089990e-01, -1.13603432e-01, -3.53927817e-02,\n",
       "         3.82757359e-02,  4.16642607e-01,  3.68435089e-01,\n",
       "         1.10507807e-01,  3.28751184e+00, -3.90885332e-01,\n",
       "         1.27671237e-01,  1.18700400e-01, -6.41296586e-01,\n",
       "        -6.80854708e-01, -4.18924991e-02, -3.46219306e-01,\n",
       "        -1.98537984e+00, -1.89995454e-02, -3.17254775e-01,\n",
       "        -7.45814215e-01,  6.73912505e-01, -1.77436540e+00,\n",
       "         2.73262806e+00, -4.61899475e-01, -4.74224290e-01,\n",
       "         2.71255429e-01, -4.94703964e-01,  1.42039798e+00,\n",
       "         6.09746533e-01],\n",
       "       [ 7.18595799e-01,  7.02796966e-01,  6.08799094e-01,\n",
       "        -3.87977679e+00, -6.10944582e-01,  7.55437948e-01,\n",
       "         3.82757359e-02,  3.82037014e-01, -4.34449484e+00,\n",
       "        -5.39492338e-01,  2.86456019e+00,  3.59111090e+00,\n",
       "         1.17489362e-01,  1.51011489e-01, -6.58150867e-01,\n",
       "        -5.97032781e-01,  1.86541863e-01, -2.05689371e-01,\n",
       "        -2.00803224e+00,  1.21584290e+00, -2.71417211e-01,\n",
       "        -1.62382013e-01,  4.77243436e+00, -1.57029845e+00,\n",
       "         2.92384289e+00,  1.38366905e+00,  1.59571460e+00,\n",
       "         1.48742055e-01, -6.33337462e-01,  1.31942615e+00,\n",
       "         5.87288654e-01]])"
      ]
     },
     "execution_count": 16,
     "metadata": {},
     "output_type": "execute_result"
    }
   ],
   "source": [
    "sc_dataset[0:4]"
   ]
  },
  {
   "cell_type": "code",
   "execution_count": 17,
   "id": "9a49d7e4",
   "metadata": {},
   "outputs": [],
   "source": [
    "trainsize = int(len(sc_dataset) * 0.85)"
   ]
  },
  {
   "cell_type": "code",
   "execution_count": 18,
   "id": "f5a43cd8",
   "metadata": {
    "scrolled": true
   },
   "outputs": [
    {
     "data": {
      "text/plain": [
       "728"
      ]
     },
     "execution_count": 18,
     "metadata": {},
     "output_type": "execute_result"
    }
   ],
   "source": [
    "trainsize"
   ]
  },
  {
   "cell_type": "code",
   "execution_count": 19,
   "id": "6a1c82c9",
   "metadata": {},
   "outputs": [],
   "source": [
    "train_data , test_data = sc_dataset[0:trainsize+1] , sc_dataset[trainsize+1:]"
   ]
  },
  {
   "cell_type": "code",
   "execution_count": 20,
   "id": "bdcd64dd",
   "metadata": {},
   "outputs": [
    {
     "data": {
      "text/plain": [
       "((729, 31), (128, 31))"
      ]
     },
     "execution_count": 20,
     "metadata": {},
     "output_type": "execute_result"
    }
   ],
   "source": [
    "train_data.shape , test_data.shape"
   ]
  },
  {
   "cell_type": "code",
   "execution_count": 21,
   "id": "aae673bf",
   "metadata": {},
   "outputs": [],
   "source": [
    "rows = dataset.shape[0]\n",
    "cols = dataset.shape[1]\n",
    "r0 = train_data.shape[0]\n",
    "r1 = test_data.shape[0]"
   ]
  },
  {
   "cell_type": "code",
   "execution_count": 22,
   "id": "22528508",
   "metadata": {},
   "outputs": [
    {
     "data": {
      "text/plain": [
       "(857, 31, 729, 128)"
      ]
     },
     "execution_count": 22,
     "metadata": {},
     "output_type": "execute_result"
    }
   ],
   "source": [
    "rows,cols,r0,r1"
   ]
  },
  {
   "cell_type": "code",
   "execution_count": 23,
   "id": "c160ae26",
   "metadata": {},
   "outputs": [],
   "source": [
    "Xtrain = [] #trend to be analyzed\n",
    "ytrain = [] #output for the given-trend\n",
    "\n",
    "Xtest = []\n",
    "ytest = []\n",
    "\n",
    "# nFuture = 1   # Number of days we want top predict into the future\n",
    "nPast = 2  # Number of past days we want to use to predict the future \n",
    "\n",
    "for i in range(nPast ,  r0):\n",
    "    Xtrain.append(train_data[i - nPast : i , 0:cols])\n",
    "    ytrain.append(train_data[i  : i + 1 , -1])\n",
    "    \n",
    "for i in range(nPast ,  r1):\n",
    "    Xtest.append(test_data[i - nPast : i , 0:cols])\n",
    "    ytest.append(test_data[i : i + 1 , -1])\n",
    "    \n",
    "Xtrain = np.array(Xtrain)\n",
    "ytrain = np.array(ytrain)\n",
    "\n",
    "Xtest = np.array(Xtest)\n",
    "ytest = np.array(ytest)"
   ]
  },
  {
   "cell_type": "code",
   "execution_count": 24,
   "id": "c4bfe7ae",
   "metadata": {},
   "outputs": [
    {
     "data": {
      "text/plain": [
       "((727, 2, 31), (126, 2, 31))"
      ]
     },
     "execution_count": 24,
     "metadata": {},
     "output_type": "execute_result"
    }
   ],
   "source": [
    "Xtrain.shape,Xtest.shape"
   ]
  },
  {
   "cell_type": "code",
   "execution_count": 25,
   "id": "f710ed19",
   "metadata": {},
   "outputs": [
    {
     "data": {
      "text/plain": [
       "847"
      ]
     },
     "execution_count": 25,
     "metadata": {},
     "output_type": "execute_result"
    }
   ],
   "source": [
    "724+123"
   ]
  },
  {
   "cell_type": "code",
   "execution_count": 26,
   "id": "f60ea19b",
   "metadata": {},
   "outputs": [
    {
     "data": {
      "text/plain": [
       "array([[ 0.45375059,  0.45096418,  0.46152217, -1.01035052, -0.57359996,\n",
       "         0.34124303,  0.03827574,  0.24548859, -0.74240916, -0.48567165,\n",
       "         3.24618898,  0.03104804, -0.06723895, -0.0472611 ,  0.37325785,\n",
       "        -0.47862685,  0.14452053, -0.15986565, -2.04476585,  0.77322511,\n",
       "         0.461269  , -0.62816404,  4.02213344, -1.8536415 ,  2.80214515,\n",
       "         0.00460787, -0.45238084,  0.48619117, -0.25176102,  1.71492613,\n",
       "         0.47440038],\n",
       "       [ 0.58579891,  0.59608563,  0.56165847, -0.99310378, -0.57324765,\n",
       "         0.01903675,  0.03827574,  0.31436663, -1.10091905, -0.49105372,\n",
       "         3.2000046 ,  0.16290222,  0.0345798 , -0.03355336, -0.66859319,\n",
       "         0.68444331, -0.17240019, -0.45578931, -1.98966543, -0.40215289,\n",
       "        -0.16419484, -0.37048366, -0.04579608, -1.79609437,  2.82424023,\n",
       "         0.03734523, -0.40744739,  0.74841278,  0.04601126,  1.47670813,\n",
       "         0.54267233]])"
      ]
     },
     "execution_count": 26,
     "metadata": {},
     "output_type": "execute_result"
    }
   ],
   "source": [
    "Xtrain[0]"
   ]
  },
  {
   "cell_type": "code",
   "execution_count": 27,
   "id": "9a1734f6",
   "metadata": {
    "scrolled": false
   },
   "outputs": [
    {
     "data": {
      "text/plain": [
       "array([0.60974653])"
      ]
     },
     "execution_count": 27,
     "metadata": {},
     "output_type": "execute_result"
    }
   ],
   "source": [
    "ytrain[0]"
   ]
  },
  {
   "cell_type": "code",
   "execution_count": 28,
   "id": "0af28dc8",
   "metadata": {
    "scrolled": true
   },
   "outputs": [
    {
     "data": {
      "text/plain": [
       "array([[0.60974653]])"
      ]
     },
     "execution_count": 28,
     "metadata": {},
     "output_type": "execute_result"
    }
   ],
   "source": [
    "pred_sc.inverse_transform([ytrain[0]])"
   ]
  },
  {
   "cell_type": "markdown",
   "id": "5027c663",
   "metadata": {},
   "source": [
    "# LSTM MODEL"
   ]
  },
  {
   "cell_type": "code",
   "execution_count": 29,
   "id": "f8f6496d",
   "metadata": {},
   "outputs": [
    {
     "name": "stderr",
     "output_type": "stream",
     "text": [
      "2023-02-09 21:56:12.172104: W tensorflow/stream_executor/platform/default/dso_loader.cc:64] Could not load dynamic library 'libcuda.so.1'; dlerror: libcuda.so.1: cannot open shared object file: No such file or directory\n",
      "2023-02-09 21:56:12.172138: W tensorflow/stream_executor/cuda/cuda_driver.cc:269] failed call to cuInit: UNKNOWN ERROR (303)\n",
      "2023-02-09 21:56:12.172164: I tensorflow/stream_executor/cuda/cuda_diagnostics.cc:156] kernel driver does not appear to be running on this host (huda): /proc/driver/nvidia/version does not exist\n",
      "2023-02-09 21:56:12.173257: I tensorflow/core/platform/cpu_feature_guard.cc:151] This TensorFlow binary is optimized with oneAPI Deep Neural Network Library (oneDNN) to use the following CPU instructions in performance-critical operations:  AVX2 FMA\n",
      "To enable them in other operations, rebuild TensorFlow with the appropriate compiler flags.\n"
     ]
    }
   ],
   "source": [
    "model = Sequential()\n",
    "model.add(LSTM(50, input_shape=( Xtrain.shape[1] , Xtrain.shape[2]) , return_sequences=True))\n",
    "model.add(LSTM(20, return_sequences=True , activation=\"relu\"))\n",
    "model.add(Dropout(0.3))\n",
    "model.add(LSTM(10, activation=\"relu\" , return_sequences=False))\n",
    "\n",
    "model.add(Dense(1))\n",
    "model.compile(loss='mae', optimizer='adam')"
   ]
  },
  {
   "cell_type": "code",
   "execution_count": 30,
   "id": "67e6189e",
   "metadata": {},
   "outputs": [
    {
     "name": "stdout",
     "output_type": "stream",
     "text": [
      "Model: \"sequential\"\n",
      "_________________________________________________________________\n",
      " Layer (type)                Output Shape              Param #   \n",
      "=================================================================\n",
      " lstm (LSTM)                 (None, 2, 50)             16400     \n",
      "                                                                 \n",
      " lstm_1 (LSTM)               (None, 2, 20)             5680      \n",
      "                                                                 \n",
      " dropout (Dropout)           (None, 2, 20)             0         \n",
      "                                                                 \n",
      " lstm_2 (LSTM)               (None, 10)                1240      \n",
      "                                                                 \n",
      " dense (Dense)               (None, 1)                 11        \n",
      "                                                                 \n",
      "=================================================================\n",
      "Total params: 23,331\n",
      "Trainable params: 23,331\n",
      "Non-trainable params: 0\n",
      "_________________________________________________________________\n"
     ]
    }
   ],
   "source": [
    "model.summary()"
   ]
  },
  {
   "cell_type": "code",
   "execution_count": 31,
   "id": "4bacd7cc",
   "metadata": {},
   "outputs": [],
   "source": [
    "opmz = optimizers.Adam(learning_rate=0.001)\n",
    "# loss = losses.mean_squared_error\n",
    "\n",
    "model.compile(optimizer = opmz , loss = \"mae\")"
   ]
  },
  {
   "cell_type": "code",
   "execution_count": 32,
   "id": "0fc23c41",
   "metadata": {},
   "outputs": [
    {
     "name": "stdout",
     "output_type": "stream",
     "text": [
      "Epoch 1/25\n",
      "41/41 [==============================] - 5s 23ms/step - loss: 0.8037 - val_loss: 0.8282\n",
      "Epoch 2/25\n",
      "41/41 [==============================] - 0s 6ms/step - loss: 0.4359 - val_loss: 0.3083\n",
      "Epoch 3/25\n",
      "41/41 [==============================] - 0s 6ms/step - loss: 0.2220 - val_loss: 0.2376\n",
      "Epoch 4/25\n",
      "41/41 [==============================] - 0s 7ms/step - loss: 0.1691 - val_loss: 0.1378\n",
      "Epoch 5/25\n",
      "41/41 [==============================] - 0s 7ms/step - loss: 0.1631 - val_loss: 0.1150\n",
      "Epoch 6/25\n",
      "41/41 [==============================] - 0s 7ms/step - loss: 0.1440 - val_loss: 0.1363\n",
      "Epoch 7/25\n",
      "41/41 [==============================] - 0s 7ms/step - loss: 0.1429 - val_loss: 0.1732\n",
      "Epoch 8/25\n",
      "41/41 [==============================] - 0s 7ms/step - loss: 0.1313 - val_loss: 0.1241\n",
      "Epoch 9/25\n",
      "41/41 [==============================] - 0s 6ms/step - loss: 0.1245 - val_loss: 0.1569\n",
      "Epoch 10/25\n",
      "41/41 [==============================] - 0s 7ms/step - loss: 0.1099 - val_loss: 0.1258\n",
      "Epoch 11/25\n",
      "41/41 [==============================] - 0s 7ms/step - loss: 0.1073 - val_loss: 0.1347\n",
      "Epoch 12/25\n",
      "41/41 [==============================] - 0s 7ms/step - loss: 0.1054 - val_loss: 0.1186\n",
      "Epoch 13/25\n",
      "41/41 [==============================] - 0s 7ms/step - loss: 0.0987 - val_loss: 0.1146\n",
      "Epoch 14/25\n",
      "41/41 [==============================] - 0s 7ms/step - loss: 0.0987 - val_loss: 0.1124\n",
      "Epoch 15/25\n",
      "41/41 [==============================] - 0s 8ms/step - loss: 0.0928 - val_loss: 0.0755\n",
      "Epoch 16/25\n",
      "41/41 [==============================] - 0s 7ms/step - loss: 0.0897 - val_loss: 0.1441\n",
      "Epoch 17/25\n",
      "41/41 [==============================] - 0s 6ms/step - loss: 0.0900 - val_loss: 0.0818\n",
      "Epoch 18/25\n",
      "41/41 [==============================] - 0s 7ms/step - loss: 0.0874 - val_loss: 0.1199\n",
      "Epoch 19/25\n",
      "41/41 [==============================] - 0s 7ms/step - loss: 0.0835 - val_loss: 0.1011\n",
      "Epoch 20/25\n",
      "41/41 [==============================] - 0s 7ms/step - loss: 0.0710 - val_loss: 0.1377\n",
      "Epoch 21/25\n",
      "41/41 [==============================] - 0s 8ms/step - loss: 0.0756 - val_loss: 0.1184\n",
      "Epoch 22/25\n",
      "41/41 [==============================] - 0s 8ms/step - loss: 0.0755 - val_loss: 0.0945\n",
      "Epoch 23/25\n",
      "41/41 [==============================] - 0s 8ms/step - loss: 0.0683 - val_loss: 0.1249\n",
      "Epoch 24/25\n",
      "41/41 [==============================] - 0s 8ms/step - loss: 0.0780 - val_loss: 0.1271\n",
      "Epoch 25/25\n",
      "41/41 [==============================] - 0s 7ms/step - loss: 0.0739 - val_loss: 0.1443\n"
     ]
    }
   ],
   "source": [
    "history = model.fit(Xtrain, ytrain, epochs=25 , batch_size=16, validation_split=0.1) #100e #32b#validation_split=0.2"
   ]
  },
  {
   "cell_type": "code",
   "execution_count": 33,
   "id": "05302cc2",
   "metadata": {},
   "outputs": [
    {
     "data": {
      "text/plain": [
       "<matplotlib.legend.Legend at 0x7f8b3d7da160>"
      ]
     },
     "execution_count": 33,
     "metadata": {},
     "output_type": "execute_result"
    },
    {
     "data": {
      "image/png": "[encoded data removed]",
      "text/plain": [
       "<Figure size 432x288 with 1 Axes>"
      ]
     },
     "metadata": {
      "needs_background": "light"
     },
     "output_type": "display_data"
    }
   ],
   "source": [
    "train_loss = history.history[\"loss\"]\n",
    "validation_loss = history.history[\"val_loss\"]\n",
    "plt.plot(train_loss , label = \"Training Loss\")\n",
    "plt.plot(validation_loss , label = \"Validation Loss\")\n",
    "plt.xlabel(\"Epoch\")\n",
    "plt.ylabel(\"Error\")\n",
    "plt.legend()"
   ]
  },
  {
   "cell_type": "code",
   "execution_count": 34,
   "id": "ebebc0eb",
   "metadata": {},
   "outputs": [
    {
     "name": "stdout",
     "output_type": "stream",
     "text": [
      "4/4 [==============================] - 0s 3ms/step - loss: 0.3668\n"
     ]
    },
    {
     "data": {
      "text/plain": [
       "0.36680445075035095"
      ]
     },
     "execution_count": 34,
     "metadata": {},
     "output_type": "execute_result"
    }
   ],
   "source": [
    "model.evaluate(Xtest,ytest)"
   ]
  },
  {
   "cell_type": "code",
   "execution_count": 35,
   "id": "a2892ea1",
   "metadata": {},
   "outputs": [],
   "source": [
    "y_predFuture = pred_sc.inverse_transform(model.predict(Xtest))\n",
    "y_predTrain = pred_sc.inverse_transform(model.predict(Xtrain))"
   ]
  },
  {
   "cell_type": "code",
   "execution_count": 36,
   "id": "84194e9b",
   "metadata": {},
   "outputs": [],
   "source": [
    "model_preds = np.vstack([y_predTrain,y_predFuture])"
   ]
  },
  {
   "cell_type": "code",
   "execution_count": null,
   "id": "2038c31e",
   "metadata": {},
   "outputs": [],
   "source": []
  },
  {
   "cell_type": "code",
   "execution_count": 37,
   "id": "c7d54fcd",
   "metadata": {},
   "outputs": [
    {
     "data": {
      "text/plain": [
       "[<matplotlib.lines.Line2D at 0x7f8b3cdbfe50>]"
      ]
     },
     "execution_count": 37,
     "metadata": {},
     "output_type": "execute_result"
    },
    {
     "data": {
      "image/png": "[encoded data removed]",
      "text/plain": [
       "<Figure size 1296x360 with 1 Axes>"
      ]
     },
     "metadata": {
      "needs_background": "light"
     },
     "output_type": "display_data"
    }
   ],
   "source": [
    "plt.figure(figsize=(18,5))\n",
    "plt.plot(model_preds)\n",
    "plt.plot(data.iloc[5:,-1].values)"
   ]
  },
  {
   "cell_type": "code",
   "execution_count": 38,
   "id": "688a96d6",
   "metadata": {},
   "outputs": [
    {
     "data": {
      "text/plain": [
       "(857, 31)"
      ]
     },
     "execution_count": 38,
     "metadata": {},
     "output_type": "execute_result"
    }
   ],
   "source": [
    "data.shape"
   ]
  },
  {
   "cell_type": "code",
   "execution_count": 39,
   "id": "2617a554",
   "metadata": {},
   "outputs": [
    {
     "data": {
      "text/plain": [
       "(853, 1)"
      ]
     },
     "execution_count": 39,
     "metadata": {},
     "output_type": "execute_result"
    }
   ],
   "source": [
    "model_preds.shape"
   ]
  }
 ],
 "metadata": {
  "kernelspec": {
   "display_name": "Python 3 (ipykernel)",
   "language": "python",
   "name": "python3"
  },
  "language_info": {
   "codemirror_mode": {
    "name": "ipython",
    "version": 3
   },
   "file_extension": ".py",
   "mimetype": "text/x-python",
   "name": "python",
   "nbconvert_exporter": "python",
   "pygments_lexer": "ipython3",
   "version": "3.8.10"
  }
 },
 "nbformat": 4,
 "nbformat_minor": 5
}
